{
  "nbformat": 4,
  "nbformat_minor": 0,
  "metadata": {
    "colab": {
      "provenance": []
    },
    "kernelspec": {
      "name": "python3",
      "display_name": "Python 3"
    },
    "language_info": {
      "name": "python"
    },
    "widgets": {
      "application/vnd.jupyter.widget-state+json": {
        "9ba75269dbc44f17963ebb073c05f223": {
          "model_module": "@jupyter-widgets/controls",
          "model_name": "IntSliderModel",
          "model_module_version": "1.5.0",
          "state": {
            "_dom_classes": [],
            "_model_module": "@jupyter-widgets/controls",
            "_model_module_version": "1.5.0",
            "_model_name": "IntSliderModel",
            "_view_count": null,
            "_view_module": "@jupyter-widgets/controls",
            "_view_module_version": "1.5.0",
            "_view_name": "IntSliderView",
            "continuous_update": false,
            "description": "ICMP Threshold:",
            "description_tooltip": null,
            "disabled": false,
            "layout": "IPY_MODEL_3575bb5a1d694c63a492c4a528ba753d",
            "max": 200,
            "min": 10,
            "orientation": "horizontal",
            "readout": true,
            "readout_format": "d",
            "step": 5,
            "style": "IPY_MODEL_1e3aa457281349da86fba73dff5a39bb",
            "value": 135
          }
        },
        "3575bb5a1d694c63a492c4a528ba753d": {
          "model_module": "@jupyter-widgets/base",
          "model_name": "LayoutModel",
          "model_module_version": "1.2.0",
          "state": {
            "_model_module": "@jupyter-widgets/base",
            "_model_module_version": "1.2.0",
            "_model_name": "LayoutModel",
            "_view_count": null,
            "_view_module": "@jupyter-widgets/base",
            "_view_module_version": "1.2.0",
            "_view_name": "LayoutView",
            "align_content": null,
            "align_items": null,
            "align_self": null,
            "border": null,
            "bottom": null,
            "display": null,
            "flex": null,
            "flex_flow": null,
            "grid_area": null,
            "grid_auto_columns": null,
            "grid_auto_flow": null,
            "grid_auto_rows": null,
            "grid_column": null,
            "grid_gap": null,
            "grid_row": null,
            "grid_template_areas": null,
            "grid_template_columns": null,
            "grid_template_rows": null,
            "height": null,
            "justify_content": null,
            "justify_items": null,
            "left": null,
            "margin": null,
            "max_height": null,
            "max_width": null,
            "min_height": null,
            "min_width": null,
            "object_fit": null,
            "object_position": null,
            "order": null,
            "overflow": null,
            "overflow_x": null,
            "overflow_y": null,
            "padding": null,
            "right": null,
            "top": null,
            "visibility": null,
            "width": null
          }
        },
        "1e3aa457281349da86fba73dff5a39bb": {
          "model_module": "@jupyter-widgets/controls",
          "model_name": "SliderStyleModel",
          "model_module_version": "1.5.0",
          "state": {
            "_model_module": "@jupyter-widgets/controls",
            "_model_module_version": "1.5.0",
            "_model_name": "SliderStyleModel",
            "_view_count": null,
            "_view_module": "@jupyter-widgets/base",
            "_view_module_version": "1.2.0",
            "_view_name": "StyleView",
            "description_width": "",
            "handle_color": null
          }
        },
        "f475f8f903634fc894f5ada8b43e8d06": {
          "model_module": "@jupyter-widgets/output",
          "model_name": "OutputModel",
          "model_module_version": "1.0.0",
          "state": {
            "_dom_classes": [],
            "_model_module": "@jupyter-widgets/output",
            "_model_module_version": "1.0.0",
            "_model_name": "OutputModel",
            "_view_count": null,
            "_view_module": "@jupyter-widgets/output",
            "_view_module_version": "1.0.0",
            "_view_name": "OutputView",
            "layout": "IPY_MODEL_e03ffc1f431a4c20bfe6345cb37e25e7",
            "msg_id": "",
            "outputs": [
              {
                "output_type": "stream",
                "name": "stdout",
                "text": [
                  "Running detection with threshold: 135\n",
                  "Possible ICMP Echo (Ping) Flood Attack detected from IP(s):\n",
                  "  Source IP: 192.168.80.2, ICMP Echo Requests: 2000\n"
                ]
              }
            ]
          }
        },
        "e03ffc1f431a4c20bfe6345cb37e25e7": {
          "model_module": "@jupyter-widgets/base",
          "model_name": "LayoutModel",
          "model_module_version": "1.2.0",
          "state": {
            "_model_module": "@jupyter-widgets/base",
            "_model_module_version": "1.2.0",
            "_model_name": "LayoutModel",
            "_view_count": null,
            "_view_module": "@jupyter-widgets/base",
            "_view_module_version": "1.2.0",
            "_view_name": "LayoutView",
            "align_content": null,
            "align_items": null,
            "align_self": null,
            "border": null,
            "bottom": null,
            "display": null,
            "flex": null,
            "flex_flow": null,
            "grid_area": null,
            "grid_auto_columns": null,
            "grid_auto_flow": null,
            "grid_auto_rows": null,
            "grid_column": null,
            "grid_gap": null,
            "grid_row": null,
            "grid_template_areas": null,
            "grid_template_columns": null,
            "grid_template_rows": null,
            "height": null,
            "justify_content": null,
            "justify_items": null,
            "left": null,
            "margin": null,
            "max_height": null,
            "max_width": null,
            "min_height": null,
            "min_width": null,
            "object_fit": null,
            "object_position": null,
            "order": null,
            "overflow": null,
            "overflow_x": null,
            "overflow_y": null,
            "padding": null,
            "right": null,
            "top": null,
            "visibility": null,
            "width": null
          }
        }
      }
    }
  },
  "cells": [
    {
      "cell_type": "code",
      "execution_count": null,
      "metadata": {
        "colab": {
          "base_uri": "https://localhost:8080/"
        },
        "id": "ONlr-BZOZhv6",
        "outputId": "2d939487-5325-4d1d-8161-3a301ef04ea9"
      },
      "outputs": [
        {
          "output_type": "stream",
          "name": "stdout",
          "text": [
            "Requirement already satisfied: scapy in /usr/local/lib/python3.12/dist-packages (2.6.1)\n"
          ]
        }
      ],
      "source": [
        "!pip install scapy"
      ]
    },
    {
      "cell_type": "code",
      "source": [
        "import ipywidgets as widgets\n",
        "from IPython.display import display, clear_output\n",
        "!pip install matplotlib seaborn pandas\n",
        "\n",
        "import matplotlib.pyplot as plt\n",
        "import seaborn as sns\n",
        "import pandas as pd\n",
        "import scapy.all as scapy\n",
        "from collections import Counter\n",
        "from google.colab import files\n",
        "import datetime"
      ],
      "metadata": {
        "colab": {
          "base_uri": "https://localhost:8080/"
        },
        "id": "ehtZouzttFho",
        "outputId": "f472574f-2db5-4e80-edef-b5090b35d697"
      },
      "execution_count": null,
      "outputs": [
        {
          "output_type": "stream",
          "name": "stdout",
          "text": [
            "Requirement already satisfied: matplotlib in /usr/local/lib/python3.12/dist-packages (3.10.0)\n",
            "Requirement already satisfied: seaborn in /usr/local/lib/python3.12/dist-packages (0.13.2)\n",
            "Requirement already satisfied: pandas in /usr/local/lib/python3.12/dist-packages (2.2.2)\n",
            "Requirement already satisfied: contourpy>=1.0.1 in /usr/local/lib/python3.12/dist-packages (from matplotlib) (1.3.3)\n",
            "Requirement already satisfied: cycler>=0.10 in /usr/local/lib/python3.12/dist-packages (from matplotlib) (0.12.1)\n",
            "Requirement already satisfied: fonttools>=4.22.0 in /usr/local/lib/python3.12/dist-packages (from matplotlib) (4.59.2)\n",
            "Requirement already satisfied: kiwisolver>=1.3.1 in /usr/local/lib/python3.12/dist-packages (from matplotlib) (1.4.9)\n",
            "Requirement already satisfied: numpy>=1.23 in /usr/local/lib/python3.12/dist-packages (from matplotlib) (2.0.2)\n",
            "Requirement already satisfied: packaging>=20.0 in /usr/local/lib/python3.12/dist-packages (from matplotlib) (25.0)\n",
            "Requirement already satisfied: pillow>=8 in /usr/local/lib/python3.12/dist-packages (from matplotlib) (11.3.0)\n",
            "Requirement already satisfied: pyparsing>=2.3.1 in /usr/local/lib/python3.12/dist-packages (from matplotlib) (3.2.3)\n",
            "Requirement already satisfied: python-dateutil>=2.7 in /usr/local/lib/python3.12/dist-packages (from matplotlib) (2.9.0.post0)\n",
            "Requirement already satisfied: pytz>=2020.1 in /usr/local/lib/python3.12/dist-packages (from pandas) (2025.2)\n",
            "Requirement already satisfied: tzdata>=2022.7 in /usr/local/lib/python3.12/dist-packages (from pandas) (2025.2)\n",
            "Requirement already satisfied: six>=1.5 in /usr/local/lib/python3.12/dist-packages (from python-dateutil>=2.7->matplotlib) (1.17.0)\n"
          ]
        }
      ]
    },
    {
      "cell_type": "code",
      "source": [
        "from google.colab import files\n",
        "from collections import Counter\n",
        "\n",
        "uploaded = files.upload()\n",
        "\n",
        "\n",
        "pcap_file = next(iter(uploaded))\n",
        "\n",
        "# Read the pcap file using Scapy\n",
        "packets = scapy.rdpcap(pcap_file)\n",
        "\n",
        "print(f\"Loaded {len(packets)} packets from {pcap_file}\")\n"
      ],
      "metadata": {
        "colab": {
          "base_uri": "https://localhost:8080/",
          "height": 90
        },
        "id": "LkEIeAsbosOO",
        "outputId": "bbf6f274-56ef-4724-c537-63dd46e47b28"
      },
      "execution_count": null,
      "outputs": [
        {
          "output_type": "display_data",
          "data": {
            "text/plain": [
              "<IPython.core.display.HTML object>"
            ],
            "text/html": [
              "\n",
              "     <input type=\"file\" id=\"files-55c5bf84-0c40-492b-ae57-c560c8351a2f\" name=\"files[]\" multiple disabled\n",
              "        style=\"border:none\" />\n",
              "     <output id=\"result-55c5bf84-0c40-492b-ae57-c560c8351a2f\">\n",
              "      Upload widget is only available when the cell has been executed in the\n",
              "      current browser session. Please rerun this cell to enable.\n",
              "      </output>\n",
              "      <script>// Copyright 2017 Google LLC\n",
              "//\n",
              "// Licensed under the Apache License, Version 2.0 (the \"License\");\n",
              "// you may not use this file except in compliance with the License.\n",
              "// You may obtain a copy of the License at\n",
              "//\n",
              "//      http://www.apache.org/licenses/LICENSE-2.0\n",
              "//\n",
              "// Unless required by applicable law or agreed to in writing, software\n",
              "// distributed under the License is distributed on an \"AS IS\" BASIS,\n",
              "// WITHOUT WARRANTIES OR CONDITIONS OF ANY KIND, either express or implied.\n",
              "// See the License for the specific language governing permissions and\n",
              "// limitations under the License.\n",
              "\n",
              "/**\n",
              " * @fileoverview Helpers for google.colab Python module.\n",
              " */\n",
              "(function(scope) {\n",
              "function span(text, styleAttributes = {}) {\n",
              "  const element = document.createElement('span');\n",
              "  element.textContent = text;\n",
              "  for (const key of Object.keys(styleAttributes)) {\n",
              "    element.style[key] = styleAttributes[key];\n",
              "  }\n",
              "  return element;\n",
              "}\n",
              "\n",
              "// Max number of bytes which will be uploaded at a time.\n",
              "const MAX_PAYLOAD_SIZE = 100 * 1024;\n",
              "\n",
              "function _uploadFiles(inputId, outputId) {\n",
              "  const steps = uploadFilesStep(inputId, outputId);\n",
              "  const outputElement = document.getElementById(outputId);\n",
              "  // Cache steps on the outputElement to make it available for the next call\n",
              "  // to uploadFilesContinue from Python.\n",
              "  outputElement.steps = steps;\n",
              "\n",
              "  return _uploadFilesContinue(outputId);\n",
              "}\n",
              "\n",
              "// This is roughly an async generator (not supported in the browser yet),\n",
              "// where there are multiple asynchronous steps and the Python side is going\n",
              "// to poll for completion of each step.\n",
              "// This uses a Promise to block the python side on completion of each step,\n",
              "// then passes the result of the previous step as the input to the next step.\n",
              "function _uploadFilesContinue(outputId) {\n",
              "  const outputElement = document.getElementById(outputId);\n",
              "  const steps = outputElement.steps;\n",
              "\n",
              "  const next = steps.next(outputElement.lastPromiseValue);\n",
              "  return Promise.resolve(next.value.promise).then((value) => {\n",
              "    // Cache the last promise value to make it available to the next\n",
              "    // step of the generator.\n",
              "    outputElement.lastPromiseValue = value;\n",
              "    return next.value.response;\n",
              "  });\n",
              "}\n",
              "\n",
              "/**\n",
              " * Generator function which is called between each async step of the upload\n",
              " * process.\n",
              " * @param {string} inputId Element ID of the input file picker element.\n",
              " * @param {string} outputId Element ID of the output display.\n",
              " * @return {!Iterable<!Object>} Iterable of next steps.\n",
              " */\n",
              "function* uploadFilesStep(inputId, outputId) {\n",
              "  const inputElement = document.getElementById(inputId);\n",
              "  inputElement.disabled = false;\n",
              "\n",
              "  const outputElement = document.getElementById(outputId);\n",
              "  outputElement.innerHTML = '';\n",
              "\n",
              "  const pickedPromise = new Promise((resolve) => {\n",
              "    inputElement.addEventListener('change', (e) => {\n",
              "      resolve(e.target.files);\n",
              "    });\n",
              "  });\n",
              "\n",
              "  const cancel = document.createElement('button');\n",
              "  inputElement.parentElement.appendChild(cancel);\n",
              "  cancel.textContent = 'Cancel upload';\n",
              "  const cancelPromise = new Promise((resolve) => {\n",
              "    cancel.onclick = () => {\n",
              "      resolve(null);\n",
              "    };\n",
              "  });\n",
              "\n",
              "  // Wait for the user to pick the files.\n",
              "  const files = yield {\n",
              "    promise: Promise.race([pickedPromise, cancelPromise]),\n",
              "    response: {\n",
              "      action: 'starting',\n",
              "    }\n",
              "  };\n",
              "\n",
              "  cancel.remove();\n",
              "\n",
              "  // Disable the input element since further picks are not allowed.\n",
              "  inputElement.disabled = true;\n",
              "\n",
              "  if (!files) {\n",
              "    return {\n",
              "      response: {\n",
              "        action: 'complete',\n",
              "      }\n",
              "    };\n",
              "  }\n",
              "\n",
              "  for (const file of files) {\n",
              "    const li = document.createElement('li');\n",
              "    li.append(span(file.name, {fontWeight: 'bold'}));\n",
              "    li.append(span(\n",
              "        `(${file.type || 'n/a'}) - ${file.size} bytes, ` +\n",
              "        `last modified: ${\n",
              "            file.lastModifiedDate ? file.lastModifiedDate.toLocaleDateString() :\n",
              "                                    'n/a'} - `));\n",
              "    const percent = span('0% done');\n",
              "    li.appendChild(percent);\n",
              "\n",
              "    outputElement.appendChild(li);\n",
              "\n",
              "    const fileDataPromise = new Promise((resolve) => {\n",
              "      const reader = new FileReader();\n",
              "      reader.onload = (e) => {\n",
              "        resolve(e.target.result);\n",
              "      };\n",
              "      reader.readAsArrayBuffer(file);\n",
              "    });\n",
              "    // Wait for the data to be ready.\n",
              "    let fileData = yield {\n",
              "      promise: fileDataPromise,\n",
              "      response: {\n",
              "        action: 'continue',\n",
              "      }\n",
              "    };\n",
              "\n",
              "    // Use a chunked sending to avoid message size limits. See b/62115660.\n",
              "    let position = 0;\n",
              "    do {\n",
              "      const length = Math.min(fileData.byteLength - position, MAX_PAYLOAD_SIZE);\n",
              "      const chunk = new Uint8Array(fileData, position, length);\n",
              "      position += length;\n",
              "\n",
              "      const base64 = btoa(String.fromCharCode.apply(null, chunk));\n",
              "      yield {\n",
              "        response: {\n",
              "          action: 'append',\n",
              "          file: file.name,\n",
              "          data: base64,\n",
              "        },\n",
              "      };\n",
              "\n",
              "      let percentDone = fileData.byteLength === 0 ?\n",
              "          100 :\n",
              "          Math.round((position / fileData.byteLength) * 100);\n",
              "      percent.textContent = `${percentDone}% done`;\n",
              "\n",
              "    } while (position < fileData.byteLength);\n",
              "  }\n",
              "\n",
              "  // All done.\n",
              "  yield {\n",
              "    response: {\n",
              "      action: 'complete',\n",
              "    }\n",
              "  };\n",
              "}\n",
              "\n",
              "scope.google = scope.google || {};\n",
              "scope.google.colab = scope.google.colab || {};\n",
              "scope.google.colab._files = {\n",
              "  _uploadFiles,\n",
              "  _uploadFilesContinue,\n",
              "};\n",
              "})(self);\n",
              "</script> "
            ]
          },
          "metadata": {}
        },
        {
          "output_type": "stream",
          "name": "stdout",
          "text": [
            "Saving icmp-flood-0.pcap to icmp-flood-0 (2).pcap\n",
            "Loaded 4020 packets from icmp-flood-0 (2).pcap\n"
          ]
        }
      ]
    },
    {
      "cell_type": "code",
      "source": [
        "import ipywidgets as widgets\n",
        "from IPython.display import display, clear_output\n",
        "threshold_slider = widgets.IntSlider(\n",
        "    value=50, min=10, max=200, step=5,\n",
        "    description='ICMP Threshold:',\n",
        "    continuous_update=False  # updates only on slider release\n",
        ") # Added closing parenthesis here\n",
        "\n",
        "# Output area to show results\n",
        "output = widgets.Output()\n",
        "\n",
        "\n",
        "def on_threshold_change(change):\n",
        "    # Clear previous output and run detection again with new threshold\n",
        "    with output:\n",
        "        clear_output()\n",
        "        new_threshold = change['new']\n",
        "        print(f\"Running detection with threshold: {new_threshold}\")\n",
        "        detect_icmp_echo_flood(packets, threshold=new_threshold)\n",
        "\n",
        "# Link the slider value changes to the handler function\n",
        "threshold_slider.observe(on_threshold_change, names='value')\n",
        "\n",
        "# Display slider and output area\n",
        "display(threshold_slider, output)\n",
        "\n",
        "# Run detection initially with default threshold\n",
        "with output:\n",
        "    detect_icmp_echo_flood(packets, threshold=threshold_slider.value)"
      ],
      "metadata": {
        "colab": {
          "base_uri": "https://localhost:8080/",
          "height": 101,
          "referenced_widgets": [
            "9ba75269dbc44f17963ebb073c05f223",
            "3575bb5a1d694c63a492c4a528ba753d",
            "1e3aa457281349da86fba73dff5a39bb",
            "f475f8f903634fc894f5ada8b43e8d06",
            "e03ffc1f431a4c20bfe6345cb37e25e7"
          ]
        },
        "id": "FQl-UnkktR2X",
        "outputId": "c5bf2978-3455-49e2-9dd8-44212c208279"
      },
      "execution_count": null,
      "outputs": [
        {
          "output_type": "display_data",
          "data": {
            "text/plain": [
              "IntSlider(value=50, continuous_update=False, description='ICMP Threshold:', max=200, min=10, step=5)"
            ],
            "application/vnd.jupyter.widget-view+json": {
              "version_major": 2,
              "version_minor": 0,
              "model_id": "9ba75269dbc44f17963ebb073c05f223"
            }
          },
          "metadata": {}
        },
        {
          "output_type": "display_data",
          "data": {
            "text/plain": [
              "Output()"
            ],
            "application/vnd.jupyter.widget-view+json": {
              "version_major": 2,
              "version_minor": 0,
              "model_id": "f475f8f903634fc894f5ada8b43e8d06"
            }
          },
          "metadata": {}
        }
      ]
    },
    {
      "cell_type": "code",
      "source": [
        "\n",
        "\n",
        "\n",
        "\n",
        "#  Defining a function to detect ICMP Echo Flood attack\n",
        "def detect_icmp_echo_flood(packets, threshold=50):\n",
        "    \"\"\"\n",
        "    Detect possible ICMP Echo (ping) flood attack based on number of ICMP Echo Request packets per source IP.\n",
        "    \"\"\"\n",
        "    icmp_echo_requests = [pkt for pkt in packets if pkt.haslayer(scapy.ICMP) and pkt[scapy.ICMP].type == 8]\n",
        "    icmp_counts = Counter(pkt[scapy.IP].src for pkt in icmp_echo_requests)\n",
        "\n",
        "    attackers = [ip for ip, count in icmp_counts.items() if count > threshold]\n",
        "\n",
        "    if attackers:\n",
        "        print(\"Possible ICMP Echo (Ping) Flood Attack detected from IP(s):\")\n",
        "        for ip in attackers:\n",
        "            print(f\"  Source IP: {ip}, ICMP Echo Requests: {icmp_counts[ip]}\")\n",
        "    else:\n",
        "        print(\"No ICMP Echo flood attack detected.\")\n",
        "\n",
        "#  Run the detection function and display output\n",
        "detect_icmp_echo_flood(packets)"
      ],
      "metadata": {
        "colab": {
          "base_uri": "https://localhost:8080/"
        },
        "id": "cBvlO0gKqheq",
        "outputId": "b754c9da-5fb3-440b-b89d-51f4e65b0636"
      },
      "execution_count": null,
      "outputs": [
        {
          "output_type": "stream",
          "name": "stdout",
          "text": [
            "Possible ICMP Echo (Ping) Flood Attack detected from IP(s):\n",
            "  Source IP: 192.168.80.2, ICMP Echo Requests: 2000\n"
          ]
        }
      ]
    },
    {
      "cell_type": "code",
      "source": [
        "# Step 3: Analysis function to get summary and data for visualization\n",
        "def icmp_flood_analysis(packets):\n",
        "    icmp_echo_requests = [pkt for pkt in packets if pkt.haslayer(scapy.ICMP) and pkt[scapy.ICMP].type == 8]\n",
        "    # Count per source IP\n",
        "    ip_counts = Counter(pkt[scapy.IP].src for pkt in icmp_echo_requests)\n",
        "    # Build DataFrame for analysis\n",
        "    data = []\n",
        "    for pkt in icmp_echo_requests:\n",
        "        timestamp = datetime.datetime.fromtimestamp(float(pkt.time))\n",
        "        src_ip = pkt[scapy.IP].src\n",
        "        data.append({\"timestamp\": timestamp, \"src_ip\": src_ip})\n",
        "    df = pd.DataFrame(data)\n",
        "    if df.empty:\n",
        "        print(\"No ICMP Echo Requests found in the pcap.\")\n",
        "        return None, None\n",
        "    # Summary statistics\n",
        "    summary = {\n",
        "        \"total_icmp_echo_requests\": len(icmp_echo_requests),\n",
        "        \"unique_source_ips\": len(ip_counts),\n",
        "        \"top_source_ips\": ip_counts.most_common(5)\n",
        "    }\n",
        "    return summary, df\n",
        "\n",
        "summary, df = icmp_flood_analysis(packets)\n",
        "\n",
        "# Step 4: Print summary report\n",
        "if summary:\n",
        "    print(\"Summary Statistics:\")\n",
        "    print(f\"Total ICMP Echo Requests: {summary['total_icmp_echo_requests']}\")\n",
        "    print(f\"Unique Source IPs: {summary['unique_source_ips']}\")\n",
        "    print(\"Top 5 Source IPs by Request Count:\")\n",
        "    for ip, count in summary['top_source_ips']:\n",
        "        print(f\"  {ip}: {count} packets\")\n",
        "\n",
        "# Step 5: Visualization\n",
        "if df is not None and not df.empty:\n",
        "    # Convert timestamps to datetime objects and set as index\n",
        "    df = df.set_index('timestamp')\n",
        "\n",
        "    # Sort index to ensure chronological order\n",
        "    df = df.sort_index()\n",
        "\n",
        "    # Resample over 1-second intervals counting packets per second (pps)\n",
        "    pps = df.resample('1S').size()\n",
        "\n",
        "    # Fill any gaps with 0 so the line plot is continuous\n",
        "    pps = pps.fillna(0)\n",
        "\n",
        "    # Apply rolling average to smooth the line graph (window size = 5 seconds)\n",
        "    pps_smooth = pps.rolling(window=25, min_periods=2, center=True).mean()\n",
        "\n",
        "    plt.figure(figsize=(12,6))\n",
        "    sns.lineplot(data=pps_smooth)\n",
        "    plt.title(\"Smoothed ICMP Echo Request Packet Rate Over Time (Packets per Second)\")\n",
        "    plt.xlabel(\"Time\")\n",
        "    plt.ylabel(\"Packets per Second (Smoothed)\")\n",
        "    plt.xticks(rotation=45)\n",
        "    plt.tight_layout()\n",
        "    plt.show()\n",
        "\n",
        "    # Histogram of packet counts per source IP\n",
        "    plt.figure(figsize=(10,5))\n",
        "    sns.histplot(df['src_ip'], bins=len(df['src_ip'].unique()), discrete=True)\n",
        "    plt.title(\"Histogram of ICMP Echo Requests per Source IP\")\n",
        "    plt.xlabel(\"Source IP\")\n",
        "    plt.ylabel(\"Packet Count\")\n",
        "    plt.xticks(rotation=45)\n",
        "    plt.show()\n",
        "\n",
        "\n",
        "\n"
      ],
      "metadata": {
        "colab": {
          "base_uri": "https://localhost:8080/",
          "height": 997
        },
        "id": "p1OKnDYUyvWE",
        "outputId": "dc92705e-7500-460a-928a-5577f95d775f"
      },
      "execution_count": null,
      "outputs": [
        {
          "output_type": "stream",
          "name": "stdout",
          "text": [
            "Summary Statistics:\n",
            "Total ICMP Echo Requests: 2000\n",
            "Unique Source IPs: 1\n",
            "Top 5 Source IPs by Request Count:\n",
            "  192.168.80.2: 2000 packets\n"
          ]
        },
        {
          "output_type": "stream",
          "name": "stderr",
          "text": [
            "/tmp/ipython-input-2799647770.py:44: FutureWarning: 'S' is deprecated and will be removed in a future version, please use 's' instead.\n",
            "  pps = df.resample('1S').size()\n"
          ]
        },
        {
          "output_type": "display_data",
          "data": {
            "text/plain": [
              "<Figure size 1200x600 with 1 Axes>"
            ],
            "image/png": "[encoded data removed]"
          },
          "metadata": {}
        },
        {
          "output_type": "display_data",
          "data": {
            "text/plain": [
              "<Figure size 1000x500 with 1 Axes>"
            ],
            "image/png": "[encoded data removed]"
          },
          "metadata": {}
        }
      ]
    },
    {
      "cell_type": "code",
      "source": [
        "def icmp_flood_analysis_detailed(packets):\n",
        "    data = []\n",
        "    for i, pkt in enumerate(packets):\n",
        "        if pkt.haslayer(scapy.ICMP) and pkt[scapy.ICMP].type == 8:  # ICMP Echo Request\n",
        "            timestamp = datetime.datetime.fromtimestamp(float(pkt.time))\n",
        "            src_ip = pkt[scapy.IP].src\n",
        "            dst_ip = pkt[scapy.IP].dst\n",
        "            icmp_type = pkt[scapy.ICMP].type\n",
        "            icmp_code = pkt[scapy.ICMP].code\n",
        "            pkt_len = len(pkt)\n",
        "            ttl = pkt[scapy.IP].ttl\n",
        "\n",
        "            data.append({\n",
        "                \"packet_number\": i + 1,\n",
        "                \"timestamp\": timestamp,\n",
        "                \"src_ip\": src_ip,\n",
        "                \"dst_ip\": dst_ip,\n",
        "                \"icmp_type\": icmp_type,\n",
        "                \"icmp_code\": icmp_code,\n",
        "                \"packet_length\": pkt_len,\n",
        "                \"ttl\": ttl\n",
        "            })\n",
        "    df = pd.DataFrame(data)\n",
        "    return df\n",
        "\n",
        "# Use this to generate detailed report DataFrame\n",
        "df_detailed = icmp_flood_analysis_detailed(packets)\n",
        "\n",
        "# Save and download the enriched CSV report\n",
        "csv_filename = \"icmp_echo_requests_detailed_report.csv\"\n",
        "df_detailed.to_csv(csv_filename, index=False)\n",
        "files.download(csv_filename)\n",
        "\n",
        "# Optional: print first few rows to verify\n",
        "print(df_detailed.head())"
      ],
      "metadata": {
        "colab": {
          "base_uri": "https://localhost:8080/",
          "height": 243
        },
        "id": "iCxMK9AIvv19",
        "outputId": "221537d2-8918-4537-a5db-64645d95a872"
      },
      "execution_count": null,
      "outputs": [
        {
          "output_type": "display_data",
          "data": {
            "text/plain": [
              "<IPython.core.display.Javascript object>"
            ],
            "application/javascript": [
              "\n",
              "    async function download(id, filename, size) {\n",
              "      if (!google.colab.kernel.accessAllowed) {\n",
              "        return;\n",
              "      }\n",
              "      const div = document.createElement('div');\n",
              "      const label = document.createElement('label');\n",
              "      label.textContent = `Downloading \"${filename}\": `;\n",
              "      div.appendChild(label);\n",
              "      const progress = document.createElement('progress');\n",
              "      progress.max = size;\n",
              "      div.appendChild(progress);\n",
              "      document.body.appendChild(div);\n",
              "\n",
              "      const buffers = [];\n",
              "      let downloaded = 0;\n",
              "\n",
              "      const channel = await google.colab.kernel.comms.open(id);\n",
              "      // Send a message to notify the kernel that we're ready.\n",
              "      channel.send({})\n",
              "\n",
              "      for await (const message of channel.messages) {\n",
              "        // Send a message to notify the kernel that we're ready.\n",
              "        channel.send({})\n",
              "        if (message.buffers) {\n",
              "          for (const buffer of message.buffers) {\n",
              "            buffers.push(buffer);\n",
              "            downloaded += buffer.byteLength;\n",
              "            progress.value = downloaded;\n",
              "          }\n",
              "        }\n",
              "      }\n",
              "      const blob = new Blob(buffers, {type: 'application/binary'});\n",
              "      const a = document.createElement('a');\n",
              "      a.href = window.URL.createObjectURL(blob);\n",
              "      a.download = filename;\n",
              "      div.appendChild(a);\n",
              "      a.click();\n",
              "      div.remove();\n",
              "    }\n",
              "  "
            ]
          },
          "metadata": {}
        },
        {
          "output_type": "display_data",
          "data": {
            "text/plain": [
              "<IPython.core.display.Javascript object>"
            ],
            "application/javascript": [
              "download(\"download_5449a102-4df8-4fe8-b5f8-4101c11182c6\", \"icmp_echo_requests_detailed_report.csv\", 135523)"
            ]
          },
          "metadata": {}
        },
        {
          "output_type": "stream",
          "name": "stdout",
          "text": [
            "   packet_number                  timestamp        src_ip        dst_ip  \\\n",
            "0              1 2021-05-20 06:57:35.036044  192.168.80.2  192.168.80.6   \n",
            "1              3 2021-05-20 06:57:35.136267  192.168.80.2  192.168.80.6   \n",
            "2              5 2021-05-20 06:57:35.236427  192.168.80.2  192.168.80.6   \n",
            "3              7 2021-05-20 06:57:35.336719  192.168.80.2  192.168.80.6   \n",
            "4              9 2021-05-20 06:57:35.436937  192.168.80.2  192.168.80.6   \n",
            "\n",
            "   icmp_type  icmp_code  packet_length  ttl  \n",
            "0          8          0             42   64  \n",
            "1          8          0             42   64  \n",
            "2          8          0             42   64  \n",
            "3          8          0             42   64  \n",
            "4          8          0             42   64  \n"
          ]
        }
      ]
    }
  ]
}